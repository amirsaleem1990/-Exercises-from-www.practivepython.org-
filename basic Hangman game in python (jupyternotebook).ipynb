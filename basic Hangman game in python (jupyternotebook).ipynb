{
 "cells": [
  {
   "cell_type": "code",
   "execution_count": null,
   "metadata": {
    "collapsed": false
   },
   "outputs": [
    {
     "name": "stdout",
     "output_type": "stream",
     "text": [
      "\n",
      "Welcome to Hangman!\n",
      "\n"
     ]
    }
   ],
   "source": [
    "def guess_letters():\n",
    "    import random\n",
    "    print('\\nWelcome to Hangman!\\n')\n",
    "    ll = int(input('how long word you wish to guess? '))\n",
    "    a = [random.choice('abcdefghijklmnopqrstuvwxyz') for i in range(ll)] \n",
    "    m = a[:]; l = 0; ss = list()\n",
    "    d = ['_' for i in range(len(a))]\n",
    "    [print(i, end='') for i in d]; print('\\n')\n",
    "    while '_' in d and l < ll:\n",
    "        if d != m:\n",
    "            print(str(ll-l) + ' turn(s) left')\n",
    "            b = input('Enter a single latter: '); ss.append(b)\n",
    "            if len(b) == 1 and b not in d and ss.count(b)==1:\n",
    "                l +=1\n",
    "                if b in a:\n",
    "                    for i in range(a.count(b)):\n",
    "                        d[a.index(b)] = b; a[a.index(b)]= ' '\n",
    "                [print(i, end='') for i in d]; print('\\n')\n",
    "            else: print('you entered this latter before.. plz enter onother latter..\\n')\n",
    "    if d == m:\n",
    "        return 'Congratulation! you guess the word in ' + str(l)+' turns\\n[for restart the game type guess_letters()]'\n",
    "    else: return'Game over!..... try again\\n'\n",
    "print(guess_letters())\n",
    "nn = input('Are you want to play this game one more time? \\n[y/n] ')\n",
    "while nn== 'y': print(guess_letters())\n",
    "if nn == 'n': print('Take care.. by by')\n"
   ]
  },
  {
   "cell_type": "code",
   "execution_count": null,
   "metadata": {
    "collapsed": true
   },
   "outputs": [],
   "source": []
  }
 ],
 "metadata": {
  "kernelspec": {
   "display_name": "Python 3",
   "language": "python",
   "name": "python3"
  },
  "language_info": {
   "codemirror_mode": {
    "name": "ipython",
    "version": 3
   },
   "file_extension": ".py",
   "mimetype": "text/x-python",
   "name": "python",
   "nbconvert_exporter": "python",
   "pygments_lexer": "ipython3",
   "version": "3.6.3"
  },
  "widgets": {
   "application/vnd.jupyter.widget-state+json": {
    "state": {},
    "version_major": 1,
    "version_minor": 0
   }
  }
 },
 "nbformat": 4,
 "nbformat_minor": 2
}
